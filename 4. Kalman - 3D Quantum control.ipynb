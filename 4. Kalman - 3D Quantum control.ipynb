{
 "cells": [
  {
   "cell_type": "code",
   "execution_count": 1,
   "metadata": {},
   "outputs": [],
   "source": [
    "import numpy as np\n",
    "import pandas as pd\n",
    "import seaborn as sns\n",
    "import matplotlib.pyplot as plt\n",
    "from tqdm import tqdm\n",
    "import scipy\n",
    "from control import lqr, dare\n",
    "from kalman import KalmanFilter\n",
    "import constants as ct\n",
    "from parameters import *\n",
    "from particle3D import Particle"
   ]
  },
  {
   "cell_type": "code",
   "execution_count": 2,
   "metadata": {},
   "outputs": [],
   "source": [
    "import os \n",
    "os.environ[\"PATH\"] += os.pathsep + '/usr/local/bin'\n",
    "plt.rcParams.update({'font.size': 10})\n",
    "plt.rcParams['axes.linewidth'] = 1.5\n",
    "plt.rcParams['font.family'] = 'serif'\n",
    "plt.rcParams['font.serif'] = ['Times New Roman'] + plt.rcParams['font.serif']\n",
    "plt.rcParams.update({\n",
    "    \"text.usetex\": True,\n",
    "})"
   ]
  },
  {
   "cell_type": "code",
   "execution_count": 3,
   "metadata": {},
   "outputs": [],
   "source": [
    "elec_xx = 2.83\n",
    "elec_xy = 2.18\n",
    "elec_yx = 2.21\n",
    "elec_yy = 2.36"
   ]
  },
  {
   "cell_type": "code",
   "execution_count": 4,
   "metadata": {},
   "outputs": [],
   "source": [
    "def compute_phonons(estimations, cov_matrix, step=100):\n",
    "    sampled_cov_matrix = cov_matrix[::step]\n",
    "    N = len(sampled_cov_matrix)\n",
    "    phonons = {'x': np.zeros((N-1)), 'y': np.zeros((N-1)), 'z': np.zeros((N-1))}\n",
    "    for i in range(1, N):\n",
    "        averaged = estimations[(i-1)*step:i*step, :].mean(axis=0)\n",
    "        \n",
    "        second_moments = sampled_cov_matrix[i]+np.power(averaged,2)\n",
    "        phonons['x'][i-1] = (second_moments[0,0]+second_moments[3,3])/4-0.5\n",
    "        phonons['y'][i-1] = (second_moments[1,1]+second_moments[4,4])/4-0.5\n",
    "        phonons['z'][i-1] = (second_moments[2,2]+second_moments[5,5])/4-0.5\n",
    "\n",
    "    return phonons"
   ]
  },
  {
   "cell_type": "code",
   "execution_count": 5,
   "metadata": {},
   "outputs": [],
   "source": [
    "omegas = np.array([2*np.pi*94e3, 2*np.pi*102e3, 2*np.pi*30e3])\n",
    "\n",
    "B = np.array([[0, 0, 0],\n",
    "        [0, 0, 0],\n",
    "        [0, 0, 0],\n",
    "        [-1, elec_xy/elec_xx, 0],\n",
    "        [elec_yx/elec_xx, elec_yy/elec_xx, 0],\n",
    "        [0, 0, 1]])"
   ]
  },
  {
   "cell_type": "code",
   "execution_count": 16,
   "metadata": {},
   "outputs": [],
   "source": [
    "def create_environment(omegas, B, p, power=300e-3, radius=75e-9, \n",
    "                       wavelength=1064e-9, eta_detection=0.34, delta_t=5e-9, \n",
    "                       control_step=6, waist=0.6e-6):\n",
    "    fs = 1/(control_step*delta_t)\n",
    "    gamma, _, ba_force, std_detection, _ = compute_parameters_simulation(power, wavelength, waist, \n",
    "                                                                        radius, p, fs, eta_detection)\n",
    "    coupling = (1/(4*np.pi))*(ba_force**2)\n",
    "    env = Particle(omegas, gamma, B, coupling, eta_detection=eta_detection, radius=radius)\n",
    "    period = 2*np.pi/omegas[2]\n",
    "    t = np.arange(0, 70 * period, delta_t)\n",
    "    N = t.shape[0]\n",
    "    variance_process_x = env.thermal_force_std_x**2 + env.backaction_std_x**2\n",
    "    variance_process_y = env.thermal_force_std_y**2 + env.backaction_std_y**2\n",
    "    variance_process_z = env.thermal_force_std_z**2 + env.backaction_std_z**2\n",
    "    Q = np.array([[0, 0, 0, 0, 0, 0], \n",
    "                [0, 0, 0, 0, 0, 0],\n",
    "                [0, 0, 0, 0, 0, 0],\n",
    "                [0, 0, 0, variance_process_x, 0, 0],\n",
    "                [0, 0, 0, 0, variance_process_y, 0],\n",
    "                [0, 0, 0, 0, 0, variance_process_z]])*control_step*delta_t/2\n",
    "    R = np.array([[3*np.power(std_detection, 2), 0, 0],\n",
    "                [0, 6*np.power(std_detection, 2), 0],\n",
    "                [0, 0, np.power(std_detection, 2)]])/2\n",
    "    Ad = scipy.linalg.expm(env.A *control_step*delta_t)\n",
    "    Bd = env.B * delta_t * control_step\n",
    "    g_fb = 100\n",
    "    Ad = scipy.linalg.expm(env.A *control_step*delta_t)\n",
    "    Bd = env.B * delta_t * control_step\n",
    "    cost_states = np.array([[omegas[0]/2, 0, 0, 0, 0, 0],\n",
    "                            [0, omegas[1]/2, 0, 0, 0, 0],\n",
    "                            [0, 0, omegas[2]/2, 0, 0, 0],\n",
    "                            [0, 0, 0, omegas[0]/2, 0, 0],\n",
    "                            [0, 0, 0, 0, omegas[1]/2, 0],\n",
    "                            [0, 0, 0, 0, 0, omegas[2]/2]])\n",
    "    control_effort = np.array([[1/(2*omegas[0]), 0, 0],\n",
    "                            [0, 1/(2*omegas[1]), 0],\n",
    "                            [0, 0, 1/(2*omegas[2])]])\n",
    "    X, L, G = dare(Ad, Bd, cost_states, control_effort/(g_fb))\n",
    "    return env, Ad, Bd, Q, R, G, control_step, std_detection, t, delta_t, N"
   ]
  },
  {
   "cell_type": "code",
   "execution_count": 17,
   "metadata": {},
   "outputs": [],
   "source": [
    "def simulate_qparticule3D(omegas, B, p):\n",
    "    env, Ad, Bd, Q, R, G, control_step, std_detection, t, delta_t, N = create_environment(omegas, B, p)\n",
    "    x0 = 1000000\n",
    "    P0 = 100000*np.eye(6)\n",
    "    estimation = np.zeros((6,1))\n",
    "    states = x0*np.ones((6,1))\n",
    "    new_states = np.zeros((N, 6))\n",
    "    measured_states = np.zeros((N,3))\n",
    "    estimated_states = np.zeros((N, 6))\n",
    "    estimated_states[0, :] = estimation[:,0]\n",
    "    control=np.zeros((3,1))\n",
    "    controls = np.zeros((3, N))\n",
    "    kalman = KalmanFilter(-states, P0, Ad, Bd, env.C, Q, R)\n",
    "    for i in range(t.shape[0]):\n",
    "        new_states[i, :] = states[:, 0]\n",
    "        if not i % control_step:\n",
    "            measurement_noise = np.array(\n",
    "                [np.sqrt(3)*np.random.normal()*std_detection/env.zp_x,\n",
    "                np.sqrt(6)*np.random.normal()*std_detection/env.zp_y,\n",
    "                np.random.normal()*std_detection/env.zp_z]\n",
    "                )\n",
    "            measured_states[i,:] = env.C@states[:, 0] + measurement_noise\n",
    "            kalman.propagate_dynamics(control)\n",
    "            kalman.compute_aposteriori(measured_states[i].reshape((3,1)))\n",
    "            estimated_states[i, :] = kalman.estimates_aposteriori[int(i/control_step)][:, 0].reshape((6))\n",
    "            estimation = estimated_states[i, :].reshape((6, 1))   \n",
    "            control = -G@estimation\n",
    "        else:\n",
    "            measured_states[i] = measured_states[i-1]\n",
    "            estimated_states[i, :] = estimated_states[i-1,:]\n",
    "        controls[:,i] = control[:,0]\n",
    "        states = env.step(states, control=control, delta_t=delta_t)\n",
    "    phonons = compute_phonons(estimated_states[::control_step, :], kalman.error_covariance_aposteriori, step=300)\n",
    "    return phonons"
   ]
  },
  {
   "cell_type": "code",
   "execution_count": 22,
   "metadata": {},
   "outputs": [
    {
     "name": "stderr",
     "output_type": "stream",
     "text": [
      "100%|██████████| 10/10 [06:09<00:00, 36.95s/it]\n"
     ]
    }
   ],
   "source": [
    "pressures = 1e-8\n",
    "phonons =  simulate_qparticule3D(omegas, B, pressure)\n",
    "    phonons_x_avg.append(phonons['x'][-10:].mean())\n",
    "    phonons_x_std.append(phonons['x'][-10:].std())\n",
    "    phonons_y_avg.append(phonons['y'][-10:].mean())\n",
    "    phonons_y_std.append(phonons['y'][-10:].std())\n",
    "    phonons_z_avg.append(phonons['z'][-10:].mean())\n",
    "    phonons_z_std.append(phonons['z'][-10:].std())"
   ]
  },
  {
   "cell_type": "code",
   "execution_count": 23,
   "metadata": {},
   "outputs": [
    {
     "data": {
      "image/png": "[encoded data removed]",
      "text/plain": [
       "<Figure size 315x225 with 1 Axes>"
      ]
     },
     "metadata": {},
     "output_type": "display_data"
    }
   ],
   "source": [
    "colors = ['#2E86C1', '#85C1E9', '#1B4F72']\n",
    "\n",
    "fig, ax1 = plt.subplots(1, 1)\n",
    "factor = 0.35\n",
    "fig.set_size_inches(9*factor, 2.25, forward=True)\n",
    "\n",
    "\n",
    "\n",
    "ax1.errorbar(pressures[::2]/1e2, phonons_x_avg[::2], yerr=phonons_x_std[::2], fmt='s', label=r'$x$', color=colors[0], markersize=4)\n",
    "ax1.errorbar(pressures[::2]/1e2, phonons_y_avg[::2], yerr=phonons_y_std[::2], fmt='^', label=r'$y$', color=colors[1], markersize=4)\n",
    "ax1.errorbar(pressures[::2]/1e2, phonons_z_avg[::2], yerr=phonons_z_std[::2], fmt='o', label=r'$z$', color=colors[2], markersize=4)\n",
    "ax1.plot([1e-4, 1e-10], [1,1], linestyle='dashed')\n",
    "ax1.set_xlim([1e-10, 1e-4])\n",
    "ax1.set_ylim([0.2, 100])\n",
    "ax1.set_yscale('log')\n",
    "ax1.set_xscale('log')\n",
    "ax1.grid()\n",
    "#ax1.axvspan(1.4e-2, 2.2e-2, facecolor='0.2', alpha=0.125, zorder=-100)\n",
    "ax1.invert_xaxis()\n",
    "ax1.set_xlabel('Pressure (mbar)')\n",
    "ax1.set_ylabel(r'$\\bar{n}$')\n",
    "#ax1.set_xlim([2.3, 4e-5])\n",
    "#ax1.set_ylim([0.3, 400])\n",
    "ax1.legend()\n",
    "plt.show()"
   ]
  },
  {
   "cell_type": "code",
   "execution_count": 143,
   "metadata": {},
   "outputs": [],
   "source": []
  },
  {
   "cell_type": "code",
   "execution_count": null,
   "metadata": {},
   "outputs": [],
   "source": []
  }
 ],
 "metadata": {
  "kernelspec": {
   "display_name": "base",
   "language": "python",
   "name": "python3"
  },
  "language_info": {
   "codemirror_mode": {
    "name": "ipython",
    "version": 3
   },
   "file_extension": ".py",
   "mimetype": "text/x-python",
   "name": "python",
   "nbconvert_exporter": "python",
   "pygments_lexer": "ipython3",
   "version": "3.8.5"
  }
 },
 "nbformat": 4,
 "nbformat_minor": 2
}
